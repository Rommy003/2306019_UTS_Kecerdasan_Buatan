{
  "nbformat": 4,
  "nbformat_minor": 0,
  "metadata": {
    "colab": {
      "provenance": []
    },
    "kernelspec": {
      "name": "python3",
      "display_name": "Python 3"
    },
    "language_info": {
      "name": "python"
    }
  },
  "cells": [
    {
      "cell_type": "code",
      "execution_count": 1,
      "metadata": {
        "colab": {
          "base_uri": "https://localhost:8080/"
        },
        "id": "GLI8nEIbmSE8",
        "outputId": "a172997f-f7c7-4260-a6c1-f2ddc5c96e40"
      },
      "outputs": [
        {
          "output_type": "stream",
          "name": "stdout",
          "text": [
            "=== Sistem Pakar: Diagnosis Hama dan Penyakit Tanaman ===\n",
            "\n",
            "Daftar Tanda-Tanda yang Bisa Dipilih:\n",
            "1. daun kekuningan\n",
            "2. noda hitam\n",
            "3. daun berlubang\n",
            "4. tanaman mengering\n",
            "\n",
            "Sebutkan tanda-tanda yang terlihat pada tanaman (pisahkan dengan koma):\n",
            "> noda hitam\n",
            "\n",
            "=== Hasil Diagnosa ===\n",
            "- Noda Hitam : Penyakit terdeteksi: Infeksi Jamur\n"
          ]
        }
      ],
      "source": [
        "def identifikasi_hama(tanda):\n",
        "    if \"daun kekuningan\" in tanda:\n",
        "        return \"Hama terdeteksi: Kutu Daun\"\n",
        "    elif \"noda hitam\" in tanda:\n",
        "        return \"Penyakit terdeteksi: Infeksi Jamur\"\n",
        "    elif \"daun berlubang\" in tanda:\n",
        "        return \"Hama terdeteksi: Ulat Daun\"\n",
        "    elif \"tanaman mengering\" in tanda:\n",
        "        return \"Hama terdeteksi: Serangan Nematoda\"\n",
        "    else:\n",
        "        return \"Tanda yang dimasukkan tidak dikenali\"\n",
        "\n",
        "daftar_tanda = [\n",
        "    \"daun kekuningan\",\n",
        "    \"noda hitam\",\n",
        "    \"daun berlubang\",\n",
        "    \"tanaman mengering\"\n",
        "]\n",
        "\n",
        "print(\"=== Sistem Pakar: Diagnosis Hama dan Penyakit Tanaman ===\\n\")\n",
        "print(\"Daftar Tanda-Tanda yang Bisa Dipilih:\")\n",
        "for idx, tanda in enumerate(daftar_tanda, start=1):\n",
        "    print(f\"{idx}. {tanda}\")\n",
        "\n",
        "input_pengguna = input(\"\\nSebutkan tanda-tanda yang terlihat pada tanaman (pisahkan dengan koma):\\n> \")\n",
        "\n",
        "tanda_dipilih = [item.strip().lower() for item in input_pengguna.split(\",\")]\n",
        "\n",
        "print(\"\\n=== Hasil Diagnosa ===\")\n",
        "for tanda in tanda_dipilih:\n",
        "    hasil = identifikasi_hama(tanda)\n",
        "    print(f\"- {tanda.title()} : {hasil}\")\n"
      ]
    }
  ]
}